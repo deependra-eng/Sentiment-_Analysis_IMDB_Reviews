{
 "cells": [
  {
   "cell_type": "code",
   "id": "initial_id",
   "metadata": {
    "collapsed": true,
    "ExecuteTime": {
     "end_time": "2024-05-07T19:34:18.680034Z",
     "start_time": "2024-05-07T19:34:14.827880Z"
    }
   },
   "source": [
    "import pandas as pd\n",
    "import matplotlib.pyplot as plt\n",
    "import seaborn as sns\n",
    "from wordcloud import WordCloud\n",
    "import re\n",
    "import string\n",
    "import nltk\n",
    "import sklearn\n",
    "nltk.download('punkt')\n",
    "nltk.download('stopwords')\n",
    "nltk.download('wordnet')\n",
    "from nltk.corpus import stopwords\n",
    "from nltk.stem import WordNetLemmatizer\n",
    "from sklearn.feature_extraction.text import CountVectorizer\n",
    "from nltk.tokenize import word_tokenize\n",
    "from nltk.stem import PorterStemmer"
   ],
   "outputs": [
    {
     "name": "stderr",
     "output_type": "stream",
     "text": [
      "[nltk_data] Downloading package punkt to\n",
      "[nltk_data]     C:\\Users\\HP\\AppData\\Roaming\\nltk_data...\n",
      "[nltk_data]   Package punkt is already up-to-date!\n",
      "[nltk_data] Downloading package stopwords to\n",
      "[nltk_data]     C:\\Users\\HP\\AppData\\Roaming\\nltk_data...\n",
      "[nltk_data]   Package stopwords is already up-to-date!\n",
      "[nltk_data] Downloading package wordnet to\n",
      "[nltk_data]     C:\\Users\\HP\\AppData\\Roaming\\nltk_data...\n",
      "[nltk_data]   Package wordnet is already up-to-date!\n"
     ]
    }
   ],
   "execution_count": 4
  },
  {
   "metadata": {
    "ExecuteTime": {
     "end_time": "2024-05-07T19:34:55.581749Z",
     "start_time": "2024-05-07T19:34:53.189266Z"
    }
   },
   "cell_type": "code",
   "source": [
    "df = pd.read_csv(\"IMDB Dataset.csv\")\n",
    "print(\"Shape of the DataFrame:\",df.shape)"
   ],
   "id": "8f1a2c7d8a4c770f",
   "outputs": [
    {
     "name": "stdout",
     "output_type": "stream",
     "text": [
      "Shape of the DataFrame: (50000, 2)\n"
     ]
    }
   ],
   "execution_count": 5
  },
  {
   "metadata": {
    "ExecuteTime": {
     "end_time": "2024-05-07T19:34:58.864845Z",
     "start_time": "2024-05-07T19:34:58.811926Z"
    }
   },
   "cell_type": "code",
   "source": "df.head()",
   "id": "f35d6d944c07abd9",
   "outputs": [
    {
     "data": {
      "text/plain": [
       "                                              review sentiment\n",
       "0  One of the other reviewers has mentioned that ...  positive\n",
       "1  A wonderful little production. <br /><br />The...  positive\n",
       "2  I thought this was a wonderful way to spend ti...  positive\n",
       "3  Basically there's a family where a little boy ...  negative\n",
       "4  Petter Mattei's \"Love in the Time of Money\" is...  positive"
      ],
      "text/html": [
       "<div>\n",
       "<style scoped>\n",
       "    .dataframe tbody tr th:only-of-type {\n",
       "        vertical-align: middle;\n",
       "    }\n",
       "\n",
       "    .dataframe tbody tr th {\n",
       "        vertical-align: top;\n",
       "    }\n",
       "\n",
       "    .dataframe thead th {\n",
       "        text-align: right;\n",
       "    }\n",
       "</style>\n",
       "<table border=\"1\" class=\"dataframe\">\n",
       "  <thead>\n",
       "    <tr style=\"text-align: right;\">\n",
       "      <th></th>\n",
       "      <th>review</th>\n",
       "      <th>sentiment</th>\n",
       "    </tr>\n",
       "  </thead>\n",
       "  <tbody>\n",
       "    <tr>\n",
       "      <th>0</th>\n",
       "      <td>One of the other reviewers has mentioned that ...</td>\n",
       "      <td>positive</td>\n",
       "    </tr>\n",
       "    <tr>\n",
       "      <th>1</th>\n",
       "      <td>A wonderful little production. &lt;br /&gt;&lt;br /&gt;The...</td>\n",
       "      <td>positive</td>\n",
       "    </tr>\n",
       "    <tr>\n",
       "      <th>2</th>\n",
       "      <td>I thought this was a wonderful way to spend ti...</td>\n",
       "      <td>positive</td>\n",
       "    </tr>\n",
       "    <tr>\n",
       "      <th>3</th>\n",
       "      <td>Basically there's a family where a little boy ...</td>\n",
       "      <td>negative</td>\n",
       "    </tr>\n",
       "    <tr>\n",
       "      <th>4</th>\n",
       "      <td>Petter Mattei's \"Love in the Time of Money\" is...</td>\n",
       "      <td>positive</td>\n",
       "    </tr>\n",
       "  </tbody>\n",
       "</table>\n",
       "</div>"
      ]
     },
     "execution_count": 6,
     "metadata": {},
     "output_type": "execute_result"
    }
   ],
   "execution_count": 6
  },
  {
   "metadata": {
    "ExecuteTime": {
     "end_time": "2024-05-07T19:35:25.968263Z",
     "start_time": "2024-05-07T19:35:25.092980Z"
    }
   },
   "cell_type": "code",
   "source": [
    "#check for the various target labels in our dataset using seaborn.\n",
    "sns.countplot(df.sentiment)"
   ],
   "id": "9606b25d3503b92a",
   "outputs": [
    {
     "data": {
      "text/plain": [
       "<Axes: xlabel='count', ylabel='sentiment'>"
      ]
     },
     "execution_count": 8,
     "metadata": {},
     "output_type": "execute_result"
    },
    {
     "data": {
      "text/plain": [
       "<Figure size 640x480 with 1 Axes>"
      ],
      "image/png": "[encoded data removed]"
     },
     "metadata": {},
     "output_type": "display_data"
    }
   ],
   "execution_count": 8
  },
  {
   "metadata": {
    "ExecuteTime": {
     "end_time": "2024-05-07T19:36:06.350103Z",
     "start_time": "2024-05-07T19:36:06.259295Z"
    }
   },
   "cell_type": "code",
   "source": [
    "#we will create a custom encoder to convert categorical target labels to numerical form.\n",
    "df.replace({'positive': 0, 'negative': 1},inplace=True)"
   ],
   "id": "feb0da259a27b430",
   "outputs": [
    {
     "name": "stderr",
     "output_type": "stream",
     "text": [
      "C:\\Users\\HP\\AppData\\Local\\Temp\\ipykernel_5864\\2786726049.py:2: FutureWarning: Downcasting behavior in `replace` is deprecated and will be removed in a future version. To retain the old behavior, explicitly call `result.infer_objects(copy=False)`. To opt-in to the future behavior, set `pd.set_option('future.no_silent_downcasting', True)`\n",
      "  df.replace({'positive': 0, 'negative': 1},inplace=True)\n"
     ]
    }
   ],
   "execution_count": 9
  },
  {
   "metadata": {
    "ExecuteTime": {
     "end_time": "2024-05-07T19:36:12.470569Z",
     "start_time": "2024-05-07T19:36:12.453563Z"
    }
   },
   "cell_type": "code",
   "source": "df.head()",
   "id": "5e6add04c54e6b98",
   "outputs": [
    {
     "data": {
      "text/plain": [
       "                                              review  sentiment\n",
       "0  One of the other reviewers has mentioned that ...          0\n",
       "1  A wonderful little production. <br /><br />The...          0\n",
       "2  I thought this was a wonderful way to spend ti...          0\n",
       "3  Basically there's a family where a little boy ...          1\n",
       "4  Petter Mattei's \"Love in the Time of Money\" is...          0"
      ],
      "text/html": [
       "<div>\n",
       "<style scoped>\n",
       "    .dataframe tbody tr th:only-of-type {\n",
       "        vertical-align: middle;\n",
       "    }\n",
       "\n",
       "    .dataframe tbody tr th {\n",
       "        vertical-align: top;\n",
       "    }\n",
       "\n",
       "    .dataframe thead th {\n",
       "        text-align: right;\n",
       "    }\n",
       "</style>\n",
       "<table border=\"1\" class=\"dataframe\">\n",
       "  <thead>\n",
       "    <tr style=\"text-align: right;\">\n",
       "      <th></th>\n",
       "      <th>review</th>\n",
       "      <th>sentiment</th>\n",
       "    </tr>\n",
       "  </thead>\n",
       "  <tbody>\n",
       "    <tr>\n",
       "      <th>0</th>\n",
       "      <td>One of the other reviewers has mentioned that ...</td>\n",
       "      <td>0</td>\n",
       "    </tr>\n",
       "    <tr>\n",
       "      <th>1</th>\n",
       "      <td>A wonderful little production. &lt;br /&gt;&lt;br /&gt;The...</td>\n",
       "      <td>0</td>\n",
       "    </tr>\n",
       "    <tr>\n",
       "      <th>2</th>\n",
       "      <td>I thought this was a wonderful way to spend ti...</td>\n",
       "      <td>0</td>\n",
       "    </tr>\n",
       "    <tr>\n",
       "      <th>3</th>\n",
       "      <td>Basically there's a family where a little boy ...</td>\n",
       "      <td>1</td>\n",
       "    </tr>\n",
       "    <tr>\n",
       "      <th>4</th>\n",
       "      <td>Petter Mattei's \"Love in the Time of Money\" is...</td>\n",
       "      <td>0</td>\n",
       "    </tr>\n",
       "  </tbody>\n",
       "</table>\n",
       "</div>"
      ]
     },
     "execution_count": 10,
     "metadata": {},
     "output_type": "execute_result"
    }
   ],
   "execution_count": 10
  },
  {
   "metadata": {
    "ExecuteTime": {
     "end_time": "2024-05-07T19:40:12.650793Z",
     "start_time": "2024-05-07T19:37:34.379909Z"
    }
   },
   "cell_type": "code",
   "source": [
    "# Lowercasing\n",
    "df['review'] = df['review'].str.lower()\n",
    "\n",
    "# Tokenization\n",
    "df['review'] = df['review'].apply(word_tokenize)\n",
    "\n",
    "# Removing Punctuation\n",
    "df['review'] = df['review'].apply(lambda x: [word for word in x if word.isalnum()])\n",
    "\n",
    "# Removing Stopwords\n",
    "stop_words = set(stopwords.words('english'))\n",
    "df['review'] = df['review'].apply(lambda x: [word for word in x if word not in stop_words])\n",
    "\n",
    "# Lemmatization\n",
    "lemmatizer = WordNetLemmatizer()\n",
    "df['review'] = df['review'].apply(lambda x: [lemmatizer.lemmatize(word) for word in x])\n",
    "\n",
    "# Join tokens back into sentences\n",
    "df['review'] = df['review'].apply(' '.join)\n",
    "\n",
    "print(df)"
   ],
   "id": "82b962a51e64269e",
   "outputs": [
    {
     "name": "stdout",
     "output_type": "stream",
     "text": [
      "                                                  review  sentiment\n",
      "0      one reviewer mentioned watching 1 oz episode h...          0\n",
      "1      wonderful little production br br filming tech...          0\n",
      "2      thought wonderful way spend time hot summer we...          0\n",
      "3      basically family little boy jake think zombie ...          1\n",
      "4      petter mattei love time money visually stunnin...          0\n",
      "...                                                  ...        ...\n",
      "49995  thought movie right good job creative original...          0\n",
      "49996  bad plot bad dialogue bad acting idiotic direc...          1\n",
      "49997  catholic taught parochial elementary school nu...          1\n",
      "49998  going disagree previous comment side maltin on...          1\n",
      "49999  one expects star trek movie high art fan expec...          1\n",
      "\n",
      "[50000 rows x 2 columns]\n"
     ]
    }
   ],
   "execution_count": 11
  },
  {
   "metadata": {
    "ExecuteTime": {
     "end_time": "2024-05-07T19:53:31.933622Z",
     "start_time": "2024-05-07T19:53:31.910409Z"
    }
   },
   "cell_type": "code",
   "source": [
    "# Check data type and for null values\n",
    "print(\"Data type of df['review']: \", type(df['review']))\n",
    "print(\"Number of null values in df['review']: \", df['review'].isnull().sum())"
   ],
   "id": "ab3d02766bb7d28b",
   "outputs": [
    {
     "name": "stdout",
     "output_type": "stream",
     "text": [
      "Data type of df['review']:  <class 'pandas.core.series.Series'>\n",
      "Number of null values in df['review']:  0\n"
     ]
    }
   ],
   "execution_count": 22
  },
  {
   "metadata": {
    "ExecuteTime": {
     "end_time": "2024-05-07T19:54:36.085325Z",
     "start_time": "2024-05-07T19:54:24.923098Z"
    }
   },
   "cell_type": "code",
   "source": [
    "#e will convert the text data into vectors, by fitting and transforming the corpus that we have created.\n",
    "from sklearn.feature_extraction.text import TfidfVectorizer\n",
    "tfidf_vect = TfidfVectorizer()\n",
    "x = tfidf_vect.fit_transform(df['review'])\n",
    "y = df.sentiment"
   ],
   "id": "2f7777f3e335ddde",
   "outputs": [],
   "execution_count": 24
  },
  {
   "metadata": {
    "ExecuteTime": {
     "end_time": "2024-05-07T19:54:39.456769Z",
     "start_time": "2024-05-07T19:54:39.249821Z"
    }
   },
   "cell_type": "code",
   "source": [
    "from sklearn.model_selection import train_test_split\n",
    "x_train,x_test,y_train,y_test = train_test_split(x,y,test_size=0.2,random_state=42)"
   ],
   "id": "75d81ded0a76c6d8",
   "outputs": [],
   "execution_count": 25
  },
  {
   "metadata": {
    "ExecuteTime": {
     "end_time": "2024-05-07T19:55:04.308863Z",
     "start_time": "2024-05-07T19:54:51.660690Z"
    }
   },
   "cell_type": "code",
   "source": [
    "from sklearn.linear_model import LogisticRegression\n",
    "lr = LogisticRegression()\n",
    "lr.fit(x_train,y_train)\n",
    "lr_pred = lr.predict(x_test)\n",
    "\n",
    "from sklearn.metrics import accuracy_score, precision_score, recall_score, confusion_matrix\n",
    "\n",
    "accuracy_scor = accuracy_score(y_test, lr_pred)\n",
    "precision_scor = precision_score(y_test, lr_pred, average='weighted')\n",
    "recall_scor = recall_score(y_test, lr_pred, average='weighted')\n",
    "confusion_mat = confusion_matrix(y_test, lr_pred)\n",
    "\n",
    "print(\"Accuracy:\", accuracy_scor)\n",
    "print(\"Precision:\", precision_scor)\n",
    "print(\"Recall:\", recall_scor)\n",
    "print(\"Confusion Matrix:\\n\", confusion_mat)"
   ],
   "id": "6dd5408602a3dda0",
   "outputs": [
    {
     "name": "stdout",
     "output_type": "stream",
     "text": [
      "Accuracy: 0.8933\n",
      "Precision: 0.8935728080040293\n",
      "Recall: 0.8933\n",
      "Confusion Matrix:\n",
      " [[4574  465]\n",
      " [ 602 4359]]\n"
     ]
    }
   ],
   "execution_count": 26
  },
  {
   "metadata": {
    "ExecuteTime": {
     "end_time": "2024-05-07T19:58:04.561218Z",
     "start_time": "2024-05-07T19:55:10.270139Z"
    }
   },
   "cell_type": "code",
   "source": [
    "from sklearn.tree import DecisionTreeClassifier\n",
    "dt = DecisionTreeClassifier()\n",
    "dt.fit(x_train,y_train)\n",
    "dt_pred = dt.predict(x_test)\n",
    "\n",
    "accuracy_scor_dt = accuracy_score(y_test, dt_pred)\n",
    "precision_scor_dt = precision_score(y_test, dt_pred, average='weighted')\n",
    "recall_scor_dt = recall_score(y_test, dt_pred, average='weighted')\n",
    "confusion_mat_dt = confusion_matrix(y_test, dt_pred)\n",
    "\n",
    "print(\"Accuracy:\", accuracy_scor_dt)\n",
    "print(\"Precision:\", precision_scor_dt)\n",
    "print(\"Recall:\", recall_scor_dt)\n",
    "print(\"Confusion Matrix:\\n\", confusion_mat_dt)"
   ],
   "id": "70226bfe83ea6647",
   "outputs": [
    {
     "name": "stdout",
     "output_type": "stream",
     "text": [
      "Accuracy: 0.717\n",
      "Precision: 0.7171398204296526\n",
      "Recall: 0.717\n",
      "Confusion Matrix:\n",
      " [[3572 1467]\n",
      " [1363 3598]]\n"
     ]
    }
   ],
   "execution_count": 27
  },
  {
   "metadata": {
    "ExecuteTime": {
     "end_time": "2024-05-07T20:24:24.060233Z",
     "start_time": "2024-05-07T20:15:49.281358Z"
    }
   },
   "cell_type": "code",
   "source": [
    "from sklearn.ensemble import RandomForestClassifier\n",
    "rf = RandomForestClassifier()\n",
    "rf.fit(x_train,y_train)\n",
    "rf_pred = rf.predict(x_test)\n",
    "\n",
    "accuracy_scor_rf = accuracy_score(y_test, rf_pred)\n",
    "precision_scor_rf = precision_score(y_test, rf_pred, average='weighted')\n",
    "recall_scor_rf = recall_score(y_test, rf_pred, average='weighted')\n",
    "confusion_mat_rf = confusion_matrix(y_test, rf_pred)\n",
    "\n",
    "print(\"Accuracy:\", accuracy_scor_rf)\n",
    "print(\"Precision:\", precision_scor_rf)\n",
    "print(\"Recall:\", recall_scor_rf)\n",
    "print(\"Confusion Matrix:\\n\", confusion_mat_rf)"
   ],
   "id": "f0b153b52d63dc36",
   "outputs": [
    {
     "name": "stdout",
     "output_type": "stream",
     "text": [
      "Accuracy: 0.8565\n",
      "Precision: 0.8566691782048318\n",
      "Recall: 0.8565\n",
      "Confusion Matrix:\n",
      " [[4380  659]\n",
      " [ 776 4185]]\n"
     ]
    }
   ],
   "execution_count": 29
  },
  {
   "metadata": {
    "ExecuteTime": {
     "end_time": "2024-05-07T20:45:54.594439Z",
     "start_time": "2024-05-07T20:45:54.493409Z"
    }
   },
   "cell_type": "code",
   "source": [
    "import pickle\n",
    "pickle.dump(tfidf_vect,open('vectorizer.pkl','wb'))\n",
    "pickle.dump(lr,open('model.pkl','wb'))"
   ],
   "id": "6d57fb906af2c2f7",
   "outputs": [],
   "execution_count": 38
  },
  {
   "metadata": {},
   "cell_type": "code",
   "outputs": [],
   "execution_count": null,
   "source": "",
   "id": "3bc391ecc5c02f72"
  }
 ],
 "metadata": {
  "kernelspec": {
   "display_name": "Python 3",
   "language": "python",
   "name": "python3"
  },
  "language_info": {
   "codemirror_mode": {
    "name": "ipython",
    "version": 2
   },
   "file_extension": ".py",
   "mimetype": "text/x-python",
   "name": "python",
   "nbconvert_exporter": "python",
   "pygments_lexer": "ipython2",
   "version": "2.7.6"
  }
 },
 "nbformat": 4,
 "nbformat_minor": 5
}
